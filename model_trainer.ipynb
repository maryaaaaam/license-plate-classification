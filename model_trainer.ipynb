{
  "nbformat": 4,
  "nbformat_minor": 0,
  "metadata": {
    "colab": {
      "name": "model_trainer.ipynb",
      "provenance": [],
      "collapsed_sections": []
    },
    "kernelspec": {
      "name": "python3",
      "display_name": "Python 3"
    },
    "accelerator": "GPU"
  },
  "cells": [
    {
      "cell_type": "code",
      "metadata": {
        "id": "s74GVHlqIy7c"
      },
      "source": [
        "import os\n",
        "import cv2\n",
        "import keras\n",
        "import random\n",
        "import numpy as np\n",
        "import get_proposal\n",
        "import matplotlib.image as mpimg \n",
        "import matplotlib.pyplot as plt\n",
        "from keras.preprocessing.image import ImageDataGenerator\n",
        "from keras.layers import  GlobalAveragePooling2D,Dropout,Dense, Flatten\n",
        "from keras.models import Model"
      ],
      "execution_count": null,
      "outputs": []
    },
    {
      "cell_type": "code",
      "metadata": {
        "id": "ow6Mt_noCri6",
        "colab": {
          "base_uri": "https://localhost:8080/"
        },
        "outputId": "95feb6a3-4cc3-4a39-b987-c0a15295e779"
      },
      "source": [
        "#extract Dataset\n",
        "!pip install py7zr\n",
        "import py7zr\n",
        "archive = py7zr.SevenZipFile('Dataset.7z', mode='r')\n",
        "archive.extractall(path=\"/content/Dataset\")\n",
        "archive.close()"
      ],
      "execution_count": null,
      "outputs": [
        {
          "output_type": "stream",
          "text": [
            "Requirement already satisfied: py7zr in /usr/local/lib/python3.6/dist-packages (0.12.0)\n",
            "Requirement already satisfied: texttable in /usr/local/lib/python3.6/dist-packages (from py7zr) (1.6.3)\n",
            "Requirement already satisfied: pycryptodome in /usr/local/lib/python3.6/dist-packages (from py7zr) (3.9.9)\n",
            "Requirement already satisfied: importlib-metadata; python_version < \"3.8\" in /usr/local/lib/python3.6/dist-packages (from py7zr) (3.4.0)\n",
            "Requirement already satisfied: zstandard in /usr/local/lib/python3.6/dist-packages (from py7zr) (0.15.1)\n",
            "Requirement already satisfied: multivolumefile<0.2.0,>=0.1.1 in /usr/local/lib/python3.6/dist-packages (from py7zr) (0.1.3)\n",
            "Requirement already satisfied: ppmd-cffi<0.4.0,>=0.3.1 in /usr/local/lib/python3.6/dist-packages (from py7zr) (0.3.3)\n",
            "Requirement already satisfied: zipp>=0.5 in /usr/local/lib/python3.6/dist-packages (from importlib-metadata; python_version < \"3.8\"->py7zr) (3.4.0)\n",
            "Requirement already satisfied: typing-extensions>=3.6.4; python_version < \"3.8\" in /usr/local/lib/python3.6/dist-packages (from importlib-metadata; python_version < \"3.8\"->py7zr) (3.7.4.3)\n",
            "Requirement already satisfied: cffi>=1.14.0 in /usr/local/lib/python3.6/dist-packages (from ppmd-cffi<0.4.0,>=0.3.1->py7zr) (1.14.4)\n",
            "Requirement already satisfied: pycparser in /usr/local/lib/python3.6/dist-packages (from cffi>=1.14.0->ppmd-cffi<0.4.0,>=0.3.1->py7zr) (2.20)\n"
          ],
          "name": "stdout"
        }
      ]
    },
    {
      "cell_type": "code",
      "metadata": {
        "id": "YvsMpf9Tlbq5"
      },
      "source": [
        "EPOCHS = 30\n",
        "BATCH_SIZE= 50\n",
        "n_classes = 3"
      ],
      "execution_count": null,
      "outputs": []
    },
    {
      "cell_type": "code",
      "metadata": {
        "id": "sTMhxk_0Bi-W"
      },
      "source": [
        "DATA_PATH = '/content/Dataset/'\n",
        "\n",
        "classes = ['0','1','2']\n",
        "\n",
        "x_train = []\n",
        "y_train = []\n",
        "for cl in classes:\n",
        "  directory_name = os.path.join(DATA_PATH, cl)\n",
        "  for filename in os.listdir(directory_name):\n",
        "    filename_jpg = filename[:-4] + '.jpg'\n",
        "    filename_str = os.path.join(directory_name, filename_jpg)\n",
        "    image = mpimg.imread(os.path.join(filename_str))\n",
        "    x_t,y_t = get_proposal.get_proposals_for_train(image,int(cl))\n",
        "    \n",
        "    x_t = np.squeeze(x_t)\n",
        "    x_train.append(x_t)\n",
        "    y_train.append(y_t)\n"
      ],
      "execution_count": null,
      "outputs": []
    },
    {
      "cell_type": "code",
      "metadata": {
        "id": "Zx7R0l7hlVjt"
      },
      "source": [
        "x_train = np.array(x_train)\n",
        "y_train = keras.utils.to_categorical(y_train, n_classes)\n",
        "\n",
        "train_datagen = ImageDataGenerator()\n",
        "train_generator = train_datagen.flow(\n",
        "    x_train,\n",
        "    y_train,\n",
        "    batch_size=BATCH_SIZE,\n",
        "    shuffle=True,\n",
        ")\n"
      ],
      "execution_count": null,
      "outputs": []
    },
    {
      "cell_type": "code",
      "metadata": {
        "colab": {
          "base_uri": "https://localhost:8080/"
        },
        "id": "psAAyv-F-n0l",
        "outputId": "b68adafc-3eb7-49f1-9c70-f16a445ee7c3"
      },
      "source": [
        "def build_model(n):\n",
        "  base_model = keras.applications.resnet50.ResNet50(\n",
        "      include_top=False,\n",
        "      weights=None\n",
        "  )\n",
        "  x = base_model.output\n",
        "  x = GlobalAveragePooling2D()(x)\n",
        "  x = Dropout(0.4)(x)\n",
        "  x = Dense(84, activation= 'sigmoid')(x)\n",
        "  x = Dropout(0.4)(x)\n",
        "  predictions = Dense(n, activation= 'softmax')(x)\n",
        "  model = Model(inputs = base_model.input, outputs = predictions)\n",
        "  return model\n",
        "\n",
        "model = build_model(n_classes)\n",
        "loss = 'categorical_crossentropy'\n",
        "optimizer = 'adam'\n",
        "model.compile(loss= loss, optimizer= optimizer, metrics='accuracy')\n",
        "model.fit(train_generator, epochs=EPOCHS, batch_size=BATCH_SIZE,verbose=True)\n",
        "\n",
        "model.save('trainedModel',save_format='h5')"
      ],
      "execution_count": null,
      "outputs": [
        {
          "output_type": "stream",
          "text": [
            "Epoch 1/30\n",
            "55/55 [==============================] - 29s 445ms/step - loss: 0.9894 - accuracy: 0.6222\n",
            "Epoch 2/30\n",
            "55/55 [==============================] - 25s 456ms/step - loss: 0.7306 - accuracy: 0.6975\n",
            "Epoch 3/30\n",
            "55/55 [==============================] - 26s 466ms/step - loss: 0.6625 - accuracy: 0.7197\n",
            "Epoch 4/30\n",
            "55/55 [==============================] - 27s 487ms/step - loss: 0.6066 - accuracy: 0.7413\n",
            "Epoch 5/30\n",
            "55/55 [==============================] - 27s 486ms/step - loss: 0.6078 - accuracy: 0.7314\n",
            "Epoch 6/30\n",
            "55/55 [==============================] - 26s 480ms/step - loss: 0.5304 - accuracy: 0.7915\n",
            "Epoch 7/30\n",
            "55/55 [==============================] - 27s 484ms/step - loss: 0.5245 - accuracy: 0.7937\n",
            "Epoch 8/30\n",
            "55/55 [==============================] - 27s 486ms/step - loss: 0.4990 - accuracy: 0.8027\n",
            "Epoch 9/30\n",
            "55/55 [==============================] - 27s 484ms/step - loss: 0.5432 - accuracy: 0.7742\n",
            "Epoch 10/30\n",
            "55/55 [==============================] - 27s 482ms/step - loss: 0.5496 - accuracy: 0.7753\n",
            "Epoch 11/30\n",
            "55/55 [==============================] - 26s 481ms/step - loss: 0.4976 - accuracy: 0.7857\n",
            "Epoch 12/30\n",
            "55/55 [==============================] - 27s 482ms/step - loss: 0.4904 - accuracy: 0.8031\n",
            "Epoch 13/30\n",
            "55/55 [==============================] - 27s 485ms/step - loss: 0.4946 - accuracy: 0.8071\n",
            "Epoch 14/30\n",
            "55/55 [==============================] - 27s 485ms/step - loss: 0.4598 - accuracy: 0.8125\n",
            "Epoch 15/30\n",
            "55/55 [==============================] - 27s 488ms/step - loss: 0.4485 - accuracy: 0.8242\n",
            "Epoch 16/30\n",
            "55/55 [==============================] - 27s 487ms/step - loss: 0.4508 - accuracy: 0.8279\n",
            "Epoch 17/30\n",
            "55/55 [==============================] - 27s 489ms/step - loss: 0.4141 - accuracy: 0.8494\n",
            "Epoch 18/30\n",
            "55/55 [==============================] - 27s 483ms/step - loss: 0.4254 - accuracy: 0.8387\n",
            "Epoch 19/30\n",
            "55/55 [==============================] - 27s 483ms/step - loss: 0.4277 - accuracy: 0.8194\n",
            "Epoch 20/30\n",
            "55/55 [==============================] - 27s 486ms/step - loss: 0.4033 - accuracy: 0.8385\n",
            "Epoch 21/30\n",
            "55/55 [==============================] - 27s 485ms/step - loss: 0.4289 - accuracy: 0.8390\n",
            "Epoch 22/30\n",
            "55/55 [==============================] - 27s 485ms/step - loss: 0.4538 - accuracy: 0.8278\n",
            "Epoch 23/30\n",
            "55/55 [==============================] - 27s 486ms/step - loss: 0.4069 - accuracy: 0.8485\n",
            "Epoch 24/30\n",
            "55/55 [==============================] - 27s 486ms/step - loss: 0.3967 - accuracy: 0.8527\n",
            "Epoch 25/30\n",
            "55/55 [==============================] - 27s 485ms/step - loss: 0.3597 - accuracy: 0.8692\n",
            "Epoch 26/30\n",
            "55/55 [==============================] - 27s 484ms/step - loss: 0.3461 - accuracy: 0.8710\n",
            "Epoch 27/30\n",
            "55/55 [==============================] - 27s 488ms/step - loss: 0.3483 - accuracy: 0.8690\n",
            "Epoch 28/30\n",
            "55/55 [==============================] - 27s 486ms/step - loss: 0.3708 - accuracy: 0.8664\n",
            "Epoch 29/30\n",
            "55/55 [==============================] - 27s 487ms/step - loss: 0.3870 - accuracy: 0.8446\n",
            "Epoch 30/30\n",
            "55/55 [==============================] - 27s 488ms/step - loss: 0.3406 - accuracy: 0.8702\n"
          ],
          "name": "stdout"
        }
      ]
    },
    {
      "cell_type": "code",
      "metadata": {
        "id": "H9KOXjUnvPJN"
      },
      "source": [
        "#making test data\n",
        "\n",
        "f = open(\"dataset.txt\",\"w+\")\n",
        "\n",
        "data_path = '/content/Dataset/'\n",
        "classes = ['0','1','2']\n",
        "for cl in classes:\n",
        "  dir_name = os.path.join(data_path, cl)\n",
        "  filename = random.sample(os.listdir(dir_name),100)\n",
        "  for i in filename:\n",
        "    path = os.path.join(dir_name, i)\n",
        "    f.write(path+\"\\n\")\n",
        "f.close()"
      ],
      "execution_count": null,
      "outputs": []
    },
    {
      "cell_type": "code",
      "metadata": {
        "colab": {
          "base_uri": "https://localhost:8080/"
        },
        "id": "gjxnEv3i2Mlr",
        "outputId": "69179e25-6c8d-4b8a-a8b3-d7619cc7f3ce"
      },
      "source": [
        "#evaluate\n",
        "\n",
        "f = open(\"dataset.txt\", \"r\")\n",
        "data = []\n",
        "for line in f:\n",
        "  data.append(line.strip())\n",
        "\n",
        "x_test = []\n",
        "y_true = []\n",
        "for i in data:\n",
        "  image = mpimg.imread(os.path.join(i))\n",
        "  x_te = get_proposal.get_proposals_for_test(image)\n",
        "  x_test.append(x_te)\n",
        "  y_true.append(i[-10])\n",
        "\n",
        "y_test = y_true\n",
        "x_test = np.array(x_test)\n",
        "x_test = np.squeeze(x_test)\n",
        "y_true = keras.utils.to_categorical(y_true, n_classes)\n",
        "\n",
        "loaded_model = keras.models.load_model('trainedModel')\n",
        "pred = loaded_model.predict(x_test)\n",
        "y_pred = []\n",
        "p = open(\"predictions.txt\",\"w+\")\n",
        "for i in range(len(data)):\n",
        "  y_pred.append(str(np.argmax(pred[i])))\n",
        "  stri = data[i]+\", \" + y_pred[i]\n",
        "  p.write(stri+\"\\n\")\n",
        "\n",
        "import sklearn\n",
        "from sklearn import metrics\n",
        "sklearn.metrics.f1_score(y_test, y_pred, average='macro')"
      ],
      "execution_count": null,
      "outputs": [
        {
          "output_type": "execute_result",
          "data": {
            "text/plain": [
              "0.7774856506050819"
            ]
          },
          "metadata": {
            "tags": []
          },
          "execution_count": 24
        }
      ]
    }
  ]
}