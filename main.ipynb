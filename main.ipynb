{
  "nbformat": 4,
  "nbformat_minor": 0,
  "metadata": {
    "colab": {
      "name": "main.ipynb",
      "provenance": []
    },
    "kernelspec": {
      "name": "python3",
      "display_name": "Python 3"
    }
  },
  "cells": [
    {
      "cell_type": "code",
      "metadata": {
        "colab": {
          "base_uri": "https://localhost:8080/"
        },
        "id": "z0Mc5E7BMro4",
        "outputId": "6f5af049-3ef9-4923-d482-a93f5df98453"
      },
      "source": [
        "#extract Dataset\n",
        "!pip install py7zr\n",
        "import py7zr\n",
        "archive = py7zr.SevenZipFile('Dataset.7z', mode='r')\n",
        "archive.extractall(path=\"/content/Dataset\")\n",
        "archive.close()\n"
      ],
      "execution_count": null,
      "outputs": [
        {
          "output_type": "stream",
          "text": [
            "Collecting py7zr\n",
            "\u001b[?25l  Downloading https://files.pythonhosted.org/packages/ec/a8/2346bbe40f7f9bef89ef228d8077a4592f0bfc9b43897fb412d31e501609/py7zr-0.12.0-py3-none-any.whl (63kB)\n",
            "\u001b[K     |████████████████████████████████| 71kB 3.3MB/s \n",
            "\u001b[?25hCollecting zstandard\n",
            "\u001b[?25l  Downloading https://files.pythonhosted.org/packages/d9/6a/5ec4fdf8b67ba8aff9b11f201b7dd34d6a06e3677f9ffba9510b3e20405c/zstandard-0.15.1-cp36-cp36m-manylinux2014_x86_64.whl (2.2MB)\n",
            "\u001b[K     |████████████████████████████████| 2.2MB 7.6MB/s \n",
            "\u001b[?25hCollecting texttable\n",
            "  Downloading https://files.pythonhosted.org/packages/06/f5/46201c428aebe0eecfa83df66bf3e6caa29659dbac5a56ddfd83cae0d4a4/texttable-1.6.3-py2.py3-none-any.whl\n",
            "Collecting multivolumefile<0.2.0,>=0.1.1\n",
            "  Downloading https://files.pythonhosted.org/packages/a6/b2/f31dc29708c6cf2e8276c15d4af596c4d51f015423a26d53c24630c4cb44/multivolumefile-0.1.3-py3-none-any.whl\n",
            "Requirement already satisfied: importlib-metadata; python_version < \"3.8\" in /usr/local/lib/python3.6/dist-packages (from py7zr) (3.4.0)\n",
            "Collecting pycryptodome\n",
            "\u001b[?25l  Downloading https://files.pythonhosted.org/packages/2b/6f/7e38d7c97fbbc3987539c804282c33f56b6b07381bf2390deead696440c5/pycryptodome-3.9.9-cp36-cp36m-manylinux1_x86_64.whl (13.7MB)\n",
            "\u001b[K     |████████████████████████████████| 13.7MB 279kB/s \n",
            "\u001b[?25hCollecting ppmd-cffi<0.4.0,>=0.3.1\n",
            "\u001b[?25l  Downloading https://files.pythonhosted.org/packages/6b/01/e71c6ed20455fb94b45c5c71c4ae3a99ba3a554359177a0086aa7d18281e/ppmd_cffi-0.3.3-cp36-cp36m-manylinux2014_x86_64.whl (122kB)\n",
            "\u001b[K     |████████████████████████████████| 122kB 46.9MB/s \n",
            "\u001b[?25hRequirement already satisfied: zipp>=0.5 in /usr/local/lib/python3.6/dist-packages (from importlib-metadata; python_version < \"3.8\"->py7zr) (3.4.0)\n",
            "Requirement already satisfied: typing-extensions>=3.6.4; python_version < \"3.8\" in /usr/local/lib/python3.6/dist-packages (from importlib-metadata; python_version < \"3.8\"->py7zr) (3.7.4.3)\n",
            "Requirement already satisfied: cffi>=1.14.0 in /usr/local/lib/python3.6/dist-packages (from ppmd-cffi<0.4.0,>=0.3.1->py7zr) (1.14.4)\n",
            "Requirement already satisfied: pycparser in /usr/local/lib/python3.6/dist-packages (from cffi>=1.14.0->ppmd-cffi<0.4.0,>=0.3.1->py7zr) (2.20)\n",
            "Installing collected packages: zstandard, texttable, multivolumefile, pycryptodome, ppmd-cffi, py7zr\n",
            "Successfully installed multivolumefile-0.1.3 ppmd-cffi-0.3.3 py7zr-0.12.0 pycryptodome-3.9.9 texttable-1.6.3 zstandard-0.15.1\n"
          ],
          "name": "stdout"
        }
      ]
    },
    {
      "cell_type": "code",
      "metadata": {
        "id": "xipOqu3DsCAI"
      },
      "source": [
        "import os\n",
        "import random\n",
        "import cv2\n",
        "import keras\n",
        "import numpy as np\n",
        "import matplotlib.image as mpimg \n",
        "import sklearn\n",
        "from sklearn import metrics\n",
        "import get_proposal\n",
        "\n",
        "f = open(\"dataset.txt\", \"r\")\n",
        "data = []\n",
        "for line in f:\n",
        "  data.append(line.strip())\n",
        "\n",
        "x_test = []\n",
        "for i in data:\n",
        "  image = mpimg.imread(os.path.join(i))\n",
        "  x_te = get_proposal.get_proposals_for_test(image)\n",
        "  x_test.append(x_te)\n",
        "\n",
        "x_test = np.array(x_test)\n",
        "x_test = np.squeeze(x_test)\n",
        "\n",
        "loaded_model = keras.models.load_model('trainedModel')\n",
        "pred = loaded_model.predict(x_test)\n",
        "\n",
        "p = open(\"predictions.txt\",\"w+\")\n",
        "for i in range(len(data)):\n",
        "  stri = data[i]+\", \" + str(np.argmax(pred[i]))\n",
        "  p.write(stri+\"\\n\")\n"
      ],
      "execution_count": null,
      "outputs": []
    }
  ]
}